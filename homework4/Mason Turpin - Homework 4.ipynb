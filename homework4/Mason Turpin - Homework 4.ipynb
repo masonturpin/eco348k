{
 "cells": [
  {
   "cell_type": "code",
   "execution_count": 47,
   "metadata": {},
   "outputs": [],
   "source": [
    "import numpy as np\n",
    "import pandas as pd\n",
    "\n",
    "import matplotlib.pyplot as plt\n",
    "\n",
    "from sklearn.linear_model import Lasso\n",
    "from sklearn.metrics import mean_squared_error\n",
    "from sklearn.linear_model import LassoCV\n",
    "from sklearn import preprocessing"
   ]
  },
  {
   "cell_type": "markdown",
   "metadata": {},
   "source": [
    "#Part A\n",
    "##There are 400 observations and 100 predictors. Lasso is preferable to OLS for this question because we can include many variables, get rid of those that are not necessary, and in doing so reduce the variance of our estimates."
   ]
  },
  {
   "cell_type": "code",
   "execution_count": 2,
   "metadata": {},
   "outputs": [],
   "source": [
    "df = pd.read_csv(\"data/credit.csv\")\n",
    "gendum = pd.get_dummies(df['Gender'])\n",
    "studum = pd.get_dummies(df['Student'], prefix = 'Student')\n",
    "mardum = pd.get_dummies(df['Married'], prefix = 'Married')\n",
    "ethdum = pd.get_dummies(df['Ethnicity'])\n",
    "df = df.drop(['Unnamed: 0', 'Gender', 'Student', 'Married', 'Ethnicity'], axis = 1)\n",
    "df = df.join(gendum['Male'])\n",
    "df = df.join(studum['Student_Yes'])\n",
    "df = df.join(mardum['Married_Yes'])\n",
    "df = df.join(ethdum)\n",
    "df = df[['Income', 'Limit', 'Rating', 'Cards', 'Age', 'Education', 'Male', 'Student_Yes', 'African American', 'Asian', 'Balance']]"
   ]
  },
  {
   "cell_type": "markdown",
   "metadata": {},
   "source": [
    "##I know this part is very messy, but I was very tired and did not want to think it through."
   ]
  },
  {
   "cell_type": "code",
   "execution_count": 3,
   "metadata": {},
   "outputs": [],
   "source": [
    "column_names = df.columns.values[1:-1] \n",
    "df_extended = df.copy() \n",
    "\n",
    "for column in column_names:\n",
    "    interaction_name = 'Income*%s'%column\n",
    "    df_extended[interaction_name] = df_extended[column]*df_extended['Income']\n",
    "    \n",
    "for column in column_names:\n",
    "    interaction_name = 'Limit*%s'%column\n",
    "    df_extended[interaction_name] = df_extended[column]*df_extended['Limit']\n",
    "    \n",
    "for column in column_names:\n",
    "    interaction_name = 'Rating*%s'%column\n",
    "    df_extended[interaction_name] = df_extended[column]*df_extended['Rating']\n",
    "    \n",
    "for column in column_names:\n",
    "    interaction_name = 'Cards*%s'%column\n",
    "    df_extended[interaction_name] = df_extended[column]*df_extended['Cards']\n",
    "    \n",
    "for column in column_names:\n",
    "    interaction_name = 'Age*%s'%column\n",
    "    df_extended[interaction_name] = df_extended[column]*df_extended['Age']\n",
    "    \n",
    "for column in column_names:\n",
    "    interaction_name = 'Education*%s'%column\n",
    "    df_extended[interaction_name] = df_extended[column]*df_extended['Education']\n",
    "    \n",
    "for column in column_names:\n",
    "    interaction_name = 'Male*%s'%column\n",
    "    df_extended[interaction_name] = df_extended[column]*df_extended['Male']\n",
    "    \n",
    "for column in column_names:\n",
    "    interaction_name = 'Student_Yes*%s'%column\n",
    "    df_extended[interaction_name] = df_extended[column]*df_extended['Student_Yes']\n",
    "    \n",
    "for column in column_names:\n",
    "    interaction_name = 'African American*%s'%column\n",
    "    df_extended[interaction_name] = df_extended[column]*df_extended['African American']\n",
    "    \n",
    "for column in column_names:\n",
    "    interaction_name = 'Asian*%s'%column\n",
    "    df_extended[interaction_name] = df_extended[column]*df_extended['Asian']"
   ]
  },
  {
   "cell_type": "code",
   "execution_count": 69,
   "metadata": {},
   "outputs": [],
   "source": [
    "df_scaled = pd.DataFrame(preprocessing.scale(df_extended.drop(['Balance'], axis = 1)))\n",
    "df_scaled = df_scaled.join(df_extended['Balance'])"
   ]
  },
  {
   "cell_type": "markdown",
   "metadata": {},
   "source": [
    "#Part B"
   ]
  },
  {
   "cell_type": "code",
   "execution_count": 54,
   "metadata": {},
   "outputs": [
    {
     "name": "stdout",
     "output_type": "stream",
     "text": [
      "[-2.65741707e+01  1.06596046e+02  9.04886999e+01  1.72726730e+01\n",
      " -0.00000000e+00  0.00000000e+00  0.00000000e+00  3.84457841e+01\n",
      " -2.40055803e+00  8.41117530e-03 -3.53058604e+02 -5.18507177e+01\n",
      " -2.99152010e+01 -0.00000000e+00 -5.51018369e+01  5.56919553e+00\n",
      " -3.14055562e+01 -4.92333251e+00 -0.00000000e+00  6.01584494e+02\n",
      "  0.00000000e+00  3.26209537e+01 -0.00000000e+00  3.13445404e+01\n",
      " -4.60029968e+00  1.19110692e+02  5.47647393e-01  0.00000000e+00\n",
      "  0.00000000e+00  0.00000000e+00  1.09318214e+00 -6.87358663e+00\n",
      "  5.65228690e+00 -0.00000000e+00  0.00000000e+00  0.00000000e+00\n",
      "  0.00000000e+00  0.00000000e+00  2.57207101e-01  3.05955619e+00\n",
      " -0.00000000e+00 -0.00000000e+00 -4.32239704e+00  2.42436155e+00\n",
      " -0.00000000e+00 -1.51089254e+00 -0.00000000e+00 -1.31959947e+01\n",
      " -0.00000000e+00 -0.00000000e+00 -2.58641526e+00 -6.83744481e-01\n",
      "  1.65431553e+00 -0.00000000e+00  3.63946979e+00  0.00000000e+00\n",
      "  1.86571097e+00 -0.00000000e+00 -1.24803054e+00 -6.54068518e+00\n",
      "  6.49032626e+00  0.00000000e+00 -1.49589180e+00 -5.80579558e+00\n",
      " -1.80113249e+00 -0.00000000e+00 -3.19487451e+00 -6.63748317e-01\n",
      "  4.51949031e+00  0.00000000e+00  4.63382526e-02  4.32916253e-02\n",
      "  7.14933028e-01  3.30341315e+00  0.00000000e+00  9.53226929e-03\n",
      "  9.43884455e-01  0.00000000e+00  2.45290073e-03  3.01779075e+00\n",
      "  1.01317301e-01  0.00000000e+00  1.88195551e-02  0.00000000e+00\n",
      " -0.00000000e+00 -0.00000000e+00 -8.75476514e-02  8.74557619e-02\n",
      "  1.33635652e-02 -3.04487109e-01  0.00000000e+00  0.00000000e+00\n",
      "  0.00000000e+00 -1.14062508e+00  3.63944039e+00 -4.28959124e+00\n",
      "  9.56510688e-01  0.00000000e+00  0.00000000e+00  1.36579546e+00]\n",
      "520.015\n"
     ]
    }
   ],
   "source": [
    "lasso = Lasso(alpha=.5)\n",
    "X = df_scaled.drop(['Balance'], axis=1)\n",
    "Y = df_scaled['Balance']\n",
    "lasso.fit(X, Y)\n",
    "print(lasso.coef_)\n",
    "print(lasso.intercept_)"
   ]
  },
  {
   "cell_type": "markdown",
   "metadata": {},
   "source": [
    "#Part C\n",
    "##The training MSE is 3450.3270422189776"
   ]
  },
  {
   "cell_type": "code",
   "execution_count": 83,
   "metadata": {},
   "outputs": [
    {
     "name": "stdout",
     "output_type": "stream",
     "text": [
      "3450.3270422189776\n"
     ]
    }
   ],
   "source": [
    "fitted_y = lasso.predict(X)\n",
    "print mean_squared_error(Y, fitted_y)"
   ]
  },
  {
   "cell_type": "markdown",
   "metadata": {},
   "source": [
    "#Part D\n",
    "##The CV MSE is 4502.67187929962"
   ]
  },
  {
   "cell_type": "code",
   "execution_count": 56,
   "metadata": {},
   "outputs": [
    {
     "name": "stdout",
     "output_type": "stream",
     "text": [
      "Fold 0, Coefficients: [-4.97984385e+01  1.22603226e+02  8.46360972e+01  2.09071115e+01\n",
      "  0.00000000e+00  0.00000000e+00  4.15562171e+00  3.96262334e+01\n",
      " -0.00000000e+00  2.55304117e-01 -3.52883885e+02 -1.95373780e+01\n",
      " -3.44054184e+01 -0.00000000e+00 -4.27161233e+01  2.88475897e+00\n",
      " -3.35862610e+01 -1.29188240e+00 -1.92410361e+00  5.81143754e+02\n",
      "  0.00000000e+00  3.87370205e+01 -0.00000000e+00  1.78406872e+01\n",
      " -4.56689012e+00  1.24614712e+02  0.00000000e+00  0.00000000e+00\n",
      "  0.00000000e+00  0.00000000e+00  0.00000000e+00 -1.27881046e+01\n",
      "  5.37747569e+00 -0.00000000e+00  0.00000000e+00  0.00000000e+00\n",
      "  0.00000000e+00  0.00000000e+00  0.00000000e+00  0.00000000e+00\n",
      "  0.00000000e+00 -0.00000000e+00 -8.22009663e+00  1.93078173e+00\n",
      " -2.78814725e+00 -6.98951960e-01 -9.24764973e+00 -1.85806964e+00\n",
      "  0.00000000e+00 -0.00000000e+00 -0.00000000e+00 -4.33977105e+00\n",
      "  0.00000000e+00 -0.00000000e+00  5.57945926e+00  6.28120489e+00\n",
      "  0.00000000e+00 -0.00000000e+00 -0.00000000e+00 -7.55685794e+00\n",
      "  7.25028354e+00  0.00000000e+00 -0.00000000e+00 -4.66802914e+00\n",
      " -0.00000000e+00 -0.00000000e+00 -2.34653534e+00 -3.73703775e+00\n",
      "  5.30376958e+00  3.47960734e+00 -0.00000000e+00 -0.00000000e+00\n",
      "  5.57991869e-01  1.23200248e+00  0.00000000e+00  0.00000000e+00\n",
      "  0.00000000e+00  0.00000000e+00 -0.00000000e+00  5.78513339e-01\n",
      " -0.00000000e+00  0.00000000e+00  0.00000000e+00  0.00000000e+00\n",
      " -4.90558261e-01 -0.00000000e+00 -0.00000000e+00 -0.00000000e+00\n",
      " -0.00000000e+00 -0.00000000e+00  0.00000000e+00  0.00000000e+00\n",
      "  0.00000000e+00 -2.64998602e+00  1.60947029e-01 -2.69664432e+00\n",
      "  1.37885927e+00  7.05934966e-02  0.00000000e+00  1.41405394e+00], Intercept: 520.7232115668832 , MSE: 3577.901342000211 \n",
      "\n",
      "Fold 1, Coefficients: [-0.00000000e+00  7.85483264e+01  9.35247266e+01  2.09273782e+01\n",
      "  0.00000000e+00 -0.00000000e+00  6.59080350e-02  2.46942907e+01\n",
      " -0.00000000e+00  0.00000000e+00 -3.20988173e+02 -1.02659474e+02\n",
      " -3.44312022e+01 -0.00000000e+00 -7.11085983e+01  6.61021943e+00\n",
      " -3.15846613e+01  0.00000000e+00 -0.00000000e+00  6.13550407e+02\n",
      "  0.00000000e+00  3.43569021e+01 -0.00000000e+00  5.42889252e+01\n",
      " -9.60657521e+00  1.20814102e+02  0.00000000e+00  8.80460902e+00\n",
      "  0.00000000e+00  0.00000000e+00  1.02639139e+00 -1.09238140e+01\n",
      "  0.00000000e+00 -0.00000000e+00  0.00000000e+00  0.00000000e+00\n",
      "  0.00000000e+00  0.00000000e+00  1.53392979e+00  0.00000000e+00\n",
      " -0.00000000e+00 -0.00000000e+00 -6.25896779e+00  2.23154437e+00\n",
      " -1.72554161e+00  0.00000000e+00 -0.00000000e+00 -5.52027329e+00\n",
      " -0.00000000e+00  0.00000000e+00 -4.18447948e+00 -1.48364392e+00\n",
      "  0.00000000e+00  1.47754930e+00  2.25013769e+00  3.54918430e+00\n",
      "  0.00000000e+00 -0.00000000e+00 -2.83571324e+00 -8.94315305e+00\n",
      "  5.96000407e+00  4.38922587e+00 -2.40089059e+00 -1.09473956e+01\n",
      " -1.08983558e-02 -0.00000000e+00 -3.84861321e+00 -2.49684654e+00\n",
      "  4.85442605e+00  6.11513214e+00  3.74802731e+00  0.00000000e+00\n",
      "  5.58215120e-01  6.48907414e+00  0.00000000e+00  5.69309030e-02\n",
      "  0.00000000e+00  1.06976159e+00  3.85614669e-02  8.83504567e+00\n",
      " -1.61986790e+00  0.00000000e+00  2.57344243e-02  0.00000000e+00\n",
      " -8.59517080e-01  2.10012715e+00 -6.84277842e+00  0.00000000e+00\n",
      " -1.57148566e-01 -0.00000000e+00  0.00000000e+00  1.60623627e-02\n",
      "  0.00000000e+00  0.00000000e+00  7.22390631e-01 -3.85981517e+00\n",
      "  4.69957662e-01  0.00000000e+00  0.00000000e+00  0.00000000e+00], Intercept: 520.8243833657504 , MSE: 5283.110002842829 \n",
      "\n",
      "Fold 2, Coefficients: [-3.61856481e+01  1.25131953e+02  7.90292163e+01  2.20944918e+01\n",
      "  0.00000000e+00 -0.00000000e+00  0.00000000e+00  3.06492784e+01\n",
      " -0.00000000e+00  2.81115108e+00 -3.75213638e+02 -3.43418421e+01\n",
      " -3.41206031e+01 -1.73940359e+01 -2.39016597e+01  1.14548691e+01\n",
      " -2.88137233e+01 -1.13137583e+01 -0.00000000e+00  6.18058583e+02\n",
      "  0.00000000e+00  2.68733935e+01 -0.00000000e+00  7.93730408e-01\n",
      " -1.33935043e+00  1.32831610e+02  0.00000000e+00  0.00000000e+00\n",
      "  0.00000000e+00  0.00000000e+00  0.00000000e+00 -0.00000000e+00\n",
      "  8.69859438e+00 -0.00000000e+00  0.00000000e+00  4.18631705e+00\n",
      "  3.96235045e+00  0.00000000e+00  0.00000000e+00  2.03798441e+00\n",
      "  0.00000000e+00  0.00000000e+00 -2.98462507e+00  1.48500895e+00\n",
      "  1.14936525e+00 -4.39938368e+00 -6.90773944e+00 -9.30996279e+00\n",
      "  0.00000000e+00  0.00000000e+00 -0.00000000e+00 -6.58876275e+00\n",
      "  0.00000000e+00 -3.38061350e+00  2.51547881e+00  0.00000000e+00\n",
      "  2.57291498e+00  0.00000000e+00 -0.00000000e+00 -2.43425514e+00\n",
      "  3.52341143e+00  0.00000000e+00 -2.22376636e+00 -5.61322371e+00\n",
      " -5.71768894e+00 -0.00000000e+00 -3.78332851e-01 -0.00000000e+00\n",
      "  4.61936282e+00  0.00000000e+00 -0.00000000e+00  1.59901852e-01\n",
      "  4.69119151e-01  1.81875829e-01  0.00000000e+00  1.04653459e+00\n",
      "  0.00000000e+00  0.00000000e+00 -0.00000000e+00  2.43436547e+00\n",
      "  5.84793499e-01  3.88957881e+00  0.00000000e+00  2.22083433e+00\n",
      "  1.50414370e+00 -2.54781200e+00 -2.04516070e+00  3.31516171e-01\n",
      "  4.01045139e-02 -0.00000000e+00  0.00000000e+00  0.00000000e+00\n",
      "  0.00000000e+00 -2.85054696e+00  5.14690572e+00 -5.65898196e+00\n",
      "  1.04520929e+00  2.92204265e-01  0.00000000e+00  1.01345456e-01], Intercept: 520.9138056011333 , MSE: 4357.365387572262 \n",
      "\n",
      "Fold 3, Coefficients: [-1.77468285e+01  1.31102594e+02  6.96919669e+01  9.42830531e+00\n",
      " -0.00000000e+00 -0.00000000e+00  0.00000000e+00  4.32551850e+01\n",
      " -4.65042762e+00  0.00000000e+00 -3.53473704e+02 -6.51024379e+01\n",
      " -2.55696398e+01  0.00000000e+00 -6.00879872e+01  9.29909647e+00\n",
      " -3.03433249e+01 -6.93210977e+00 -3.98512859e+00  6.02926301e+02\n",
      "  0.00000000e+00  6.21708639e+00 -0.00000000e+00  4.10550351e+01\n",
      " -1.57432436e+01  9.96692628e+01  2.00744131e+00  0.00000000e+00\n",
      "  0.00000000e+00  0.00000000e+00  2.49633210e+01 -7.74957127e+00\n",
      "  0.00000000e+00 -0.00000000e+00  0.00000000e+00  0.00000000e+00\n",
      "  0.00000000e+00  0.00000000e+00  6.94620709e+00  3.85464565e+00\n",
      " -0.00000000e+00 -0.00000000e+00 -2.39209064e+00  2.57060920e+00\n",
      "  0.00000000e+00 -7.15955704e-01 -0.00000000e+00 -1.05524697e+01\n",
      " -0.00000000e+00 -2.44695046e+00 -1.41517934e+00 -0.00000000e+00\n",
      "  1.02941559e+00 -0.00000000e+00  7.12354840e+00  0.00000000e+00\n",
      "  0.00000000e+00 -0.00000000e+00 -1.12552494e-01 -5.81599930e+00\n",
      "  4.14788139e+00  4.65193198e+00 -0.00000000e+00 -6.72053084e+00\n",
      " -1.52347022e+00 -0.00000000e+00 -1.76936932e+00 -0.00000000e+00\n",
      "  2.83561456e+00  7.12820317e+00 -0.00000000e+00  1.69772828e+00\n",
      "  6.14153395e-02  9.21646350e+00  0.00000000e+00  1.26476059e-01\n",
      "  1.01158171e+00  0.00000000e+00 -0.00000000e+00  7.13354133e+00\n",
      " -0.00000000e+00 -1.89954262e+00  6.80098279e+00  0.00000000e+00\n",
      "  0.00000000e+00 -0.00000000e+00 -0.00000000e+00  2.51620934e-01\n",
      " -0.00000000e+00 -6.59650387e+00  0.00000000e+00  0.00000000e+00\n",
      "  0.00000000e+00 -1.56491637e-01  5.57659958e+00 -5.65337355e+00\n",
      "  1.87666254e+00 -1.88949154e-01  0.00000000e+00  0.00000000e+00], Intercept: 520.0001536687329 , MSE: 4198.745034875885 \n",
      "\n",
      "Fold 4, Coefficients: [-3.03111513e+01  5.63325948e+01  1.06306451e+02  1.46569467e+01\n",
      " -1.19274569e+01 -0.00000000e+00  0.00000000e+00  2.28323509e+01\n",
      " -0.00000000e+00  0.00000000e+00 -3.96948559e+02 -3.68629630e+00\n",
      " -2.00404004e+01  0.00000000e+00 -6.29919116e+01  2.93365250e+00\n",
      " -2.99022636e+01 -2.46446054e+01 -1.93691736e+00  6.19537780e+02\n",
      "  0.00000000e+00  2.66738031e+01 -0.00000000e+00  4.52561213e+01\n",
      " -0.00000000e+00  1.10493877e+02  7.57675388e+00 -0.00000000e+00\n",
      "  0.00000000e+00  0.00000000e+00  4.34080672e-01 -0.00000000e+00\n",
      "  4.76769466e+00 -0.00000000e+00  0.00000000e+00  0.00000000e+00\n",
      " -0.00000000e+00  0.00000000e+00  7.93472796e-01  7.72615163e+00\n",
      " -0.00000000e+00 -0.00000000e+00 -6.68202231e+00  1.00288690e+01\n",
      " -0.00000000e+00 -8.94735988e-01 -0.00000000e+00 -0.00000000e+00\n",
      " -0.00000000e+00  0.00000000e+00 -0.00000000e+00 -0.00000000e+00\n",
      "  1.36454671e+01 -0.00000000e+00  4.60730153e-01  1.60869257e+00\n",
      "  0.00000000e+00 -0.00000000e+00 -0.00000000e+00 -1.33767034e+01\n",
      "  4.45400002e+00  0.00000000e+00 -0.00000000e+00 -6.03951398e+00\n",
      " -0.00000000e+00 -0.00000000e+00 -2.17448559e+00 -0.00000000e+00\n",
      "  1.99075104e+00  0.00000000e+00  3.05970668e+00  2.81954938e-01\n",
      "  2.42236808e-01  9.19744329e-03  0.00000000e+00  0.00000000e+00\n",
      "  3.71022032e+00  0.00000000e+00  2.82099820e-01  3.26043327e-01\n",
      "  6.86698273e+00  7.93190946e-01  0.00000000e+00  0.00000000e+00\n",
      " -0.00000000e+00 -0.00000000e+00 -0.00000000e+00  7.81784942e-01\n",
      "  7.90493184e-01 -0.00000000e+00  0.00000000e+00 -0.00000000e+00\n",
      " -0.00000000e+00 -6.17519416e+00  1.15935175e+00 -9.27025769e-03\n",
      "  1.85593475e+00  1.70008575e+00  0.00000000e+00  6.89397362e+00], Intercept: 517.6144340063381 , MSE: 5096.237629206911 \n",
      "\n",
      "The CV MSE is 4502.67187929962\n"
     ]
    }
   ],
   "source": [
    "CVn = []\n",
    "for i in range(5):\n",
    "    start_index = (400/5)*i\n",
    "    end_index = (400/5)*(i+1)\n",
    "    \n",
    "    X_test = X[start_index:end_index]\n",
    "    Y_test = Y[start_index:end_index]\n",
    "    \n",
    "    X_train = np.concatenate((X[0:start_index],X[end_index:]))\n",
    "    Y_train = np.concatenate((Y[0:start_index],Y[end_index:]))\n",
    "    \n",
    "    l = Lasso(alpha=.5)\n",
    "    l.fit(X_train,Y_train)\n",
    "    fitted_Y = l.predict(X_test)\n",
    "    mse = mean_squared_error(Y_test, fitted_Y)\n",
    "    CVn.append(mse)\n",
    "\n",
    "    print 'Fold %s, Coefficients: %s, Intercept: %s , MSE: %s \\n'%(i, l.coef_, \n",
    "                                                                   l.intercept_, mse)\n",
    "\n",
    "\n",
    "print 'The CV MSE is ' + str(sum(CVn)/float(len(CVn)))"
   ]
  },
  {
   "cell_type": "markdown",
   "metadata": {},
   "source": [
    "#Part E\n",
    "##The CV MSE is much higher than the training MSE. This is due to the training MSE being calculated over observations that are in the model, whereas the CV MSE is calculated using observations that were not used to create the model.\n",
    "\n",
    "#Part F"
   ]
  },
  {
   "cell_type": "code",
   "execution_count": 87,
   "metadata": {},
   "outputs": [],
   "source": [
    "grid = []\n",
    "for i in range(1, 101):\n",
    "    grid.append(float(i)/100)"
   ]
  },
  {
   "cell_type": "code",
   "execution_count": 88,
   "metadata": {},
   "outputs": [
    {
     "name": "stdout",
     "output_type": "stream",
     "text": [
      "Grid       0.480000\n",
      "mse     4501.712269\n",
      "Name: 47, dtype: float64\n"
     ]
    }
   ],
   "source": [
    "lamb_mse = []\n",
    "\n",
    "for lamb in grid:\n",
    "    fold_mse = []\n",
    "    for i in range(5):\n",
    "        start_index = (400/5)*i\n",
    "        end_index = (400/5)*(i+1)\n",
    "    \n",
    "        X_test = X[start_index:end_index]\n",
    "        Y_test = Y[start_index:end_index]\n",
    "    \n",
    "        X_train = np.concatenate((X[0:start_index],X[end_index:]))\n",
    "        Y_train = np.concatenate((Y[0:start_index],Y[end_index:]))\n",
    "        \n",
    "        l = Lasso(alpha=lamb)\n",
    "        l.fit(X_train, Y_train)\n",
    "        fitted_Y = l.predict(X_test)\n",
    "        fold_mse.append(mean_squared_error(Y_test,fitted_Y))\n",
    "    lamb_mse.append(sum(fold_mse)/len(fold_mse))\n",
    "\n",
    "lambda_df = pd.DataFrame({\"Grid\": grid, \"mse\": lamb_mse})\n",
    "lambda_df\n",
    "print lambda_df.loc[lambda_df['mse'].idxmin()]"
   ]
  },
  {
   "cell_type": "code",
   "execution_count": 89,
   "metadata": {},
   "outputs": [
    {
     "data": {
      "text/plain": [
       "[<matplotlib.lines.Line2D at 0xf1ba2b0>]"
      ]
     },
     "execution_count": 89,
     "metadata": {},
     "output_type": "execute_result"
    },
    {
     "data": {
      "image/png": "[encoded data removed]",
      "text/plain": [
       "<Figure size 432x288 with 1 Axes>"
      ]
     },
     "metadata": {},
     "output_type": "display_data"
    }
   ],
   "source": [
    "plt.plot(lambda_df['Grid'], lambda_df['mse'])"
   ]
  },
  {
   "cell_type": "markdown",
   "metadata": {},
   "source": [
    "##The optimal value of lambda, given the grid, is .48.\n",
    "\n",
    "#Part G\n",
    "##Below is the optimal estimation."
   ]
  },
  {
   "cell_type": "code",
   "execution_count": 82,
   "metadata": {
    "scrolled": true
   },
   "outputs": [
    {
     "name": "stdout",
     "output_type": "stream",
     "text": [
      "[-2.48502511e+01  1.06034809e+02  8.99887047e+01  1.74074866e+01\n",
      " -0.00000000e+00  0.00000000e+00  0.00000000e+00  3.81322971e+01\n",
      " -2.50994679e+00  4.93524256e-01 -3.55287998e+02 -5.14585288e+01\n",
      " -3.02104717e+01 -0.00000000e+00 -5.60408001e+01  6.33664818e+00\n",
      " -3.16431387e+01 -5.40604132e+00 -3.58265325e-02  6.03627632e+02\n",
      "  0.00000000e+00  3.26568064e+01 -0.00000000e+00  3.11985368e+01\n",
      " -5.29133827e+00  1.19313457e+02  7.78034667e-01  0.00000000e+00\n",
      "  0.00000000e+00  0.00000000e+00  1.07361761e+00 -7.51095625e+00\n",
      "  6.28984818e+00 -0.00000000e+00  0.00000000e+00  0.00000000e+00\n",
      "  0.00000000e+00  0.00000000e+00  1.62668463e-01  3.27837510e+00\n",
      " -0.00000000e+00 -0.00000000e+00 -4.53590695e+00  2.42123010e+00\n",
      " -0.00000000e+00 -1.50101071e+00 -0.00000000e+00 -1.30617506e+01\n",
      " -0.00000000e+00 -0.00000000e+00 -2.17037144e+00 -5.39404842e-01\n",
      "  1.70308784e+00 -0.00000000e+00  3.19546849e+00  0.00000000e+00\n",
      "  2.13375808e+00 -0.00000000e+00 -1.30078726e+00 -6.81821672e+00\n",
      "  6.50659657e+00  0.00000000e+00 -1.36719501e+00 -6.49066044e+00\n",
      " -1.99444580e+00 -0.00000000e+00 -3.14174286e+00 -1.14274356e+00\n",
      "  5.04573675e+00  8.71284152e-02  3.98252590e-02  1.71812367e-01\n",
      "  7.15355083e-01  3.44787617e+00  0.00000000e+00  2.32014164e-02\n",
      "  1.04247347e+00  0.00000000e+00  2.35660948e-03  3.11079783e+00\n",
      "  9.05549337e-02  0.00000000e+00  4.63221400e-01  0.00000000e+00\n",
      " -0.00000000e+00 -0.00000000e+00 -5.46476274e-01  5.59788362e-02\n",
      "  1.24169939e-02 -1.69920230e-01  0.00000000e+00  0.00000000e+00\n",
      "  0.00000000e+00 -1.44901359e+00  4.20997853e+00 -4.56232664e+00\n",
      "  9.94990838e-01  0.00000000e+00  0.00000000e+00  1.96752393e+00]\n",
      "520.015\n"
     ]
    }
   ],
   "source": [
    "lassoCorrect = Lasso(alpha=.48)\n",
    "lassoCorrect.fit(X, Y)\n",
    "print(lassoCorrect.coef_)\n",
    "print(lassoCorrect.intercept_)"
   ]
  }
 ],
 "metadata": {
  "kernelspec": {
   "display_name": "Python 2",
   "language": "python",
   "name": "python2"
  },
  "language_info": {
   "codemirror_mode": {
    "name": "ipython",
    "version": 2
   },
   "file_extension": ".py",
   "mimetype": "text/x-python",
   "name": "python",
   "nbconvert_exporter": "python",
   "pygments_lexer": "ipython2",
   "version": "2.7.15"
  }
 },
 "nbformat": 4,
 "nbformat_minor": 2
}
